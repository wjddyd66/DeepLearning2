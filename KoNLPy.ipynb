{
 "cells": [
  {
   "cell_type": "code",
   "execution_count": 1,
   "metadata": {},
   "outputs": [],
   "source": [
    "from konlpy.tag import Kkma\n",
    "from konlpy.utils import pprint"
   ]
  },
  {
   "cell_type": "code",
   "execution_count": 2,
   "metadata": {},
   "outputs": [
    {
     "name": "stdout",
     "output_type": "stream",
     "text": [
      "['여러분, 안녕! 반갑습니다.']\n",
      "['여러분', '안녕']\n",
      "[('여러분', 'NP'), (',', 'SP'), ('안녕', 'NNG'), ('!', 'SF'), ('반갑', 'VV'), ('습니다', 'EFN'), ('.', 'SF')]\n"
     ]
    }
   ],
   "source": [
    "kkma = Kkma()\n",
    "pprint(kkma.sentences(\"여러분, 안녕! 반갑습니다.\")) \n",
    "print(kkma.nouns(\"여러분, 안녕! 반갑습니다.\"))\n",
    "print(kkma.pos(\"여러분, 안녕! 반갑습니다.\"))"
   ]
  },
  {
   "cell_type": "code",
   "execution_count": 3,
   "metadata": {},
   "outputs": [
    {
     "name": "stdout",
     "output_type": "stream",
     "text": [
      "['여러분', '안녕']\n",
      "[('여러분', 'Noun'), (',', 'Punctuation'), ('안녕', 'Noun'), ('!', 'Punctuation'), ('반갑습니다', 'Adjective'), ('.', 'Punctuation')]\n"
     ]
    }
   ],
   "source": [
    "from konlpy.tag import Okt\n",
    "okt = Okt()\n",
    "print(okt.nouns(\"여러분, 안녕! 반갑습니다.\"))\n",
    "print(okt.pos(\"여러분, 안녕! 반갑습니다.\"))"
   ]
  },
  {
   "cell_type": "code",
   "execution_count": 4,
   "metadata": {},
   "outputs": [
    {
     "name": "stdout",
     "output_type": "stream",
     "text": [
      "['봄', '여름', '바람', '가을', '중간', '계절']\n",
      "['멋진', '봄', '은', '엄청', '무더운', '여름', '과', '한들한들', '시원한', '바람', '이', '부는', '가을', '의', '중간', '계절', '이다']\n",
      "[('멋진', 'Adjective'), ('봄', 'Noun'), ('은', 'Josa'), ('엄청', 'Adverb'), ('무더운', 'Adjective'), ('여름', 'Noun'), ('과', 'Josa'), ('한들한들', 'Adverb'), ('시원한', 'Adjective'), ('바람', 'Noun'), ('이', 'Josa'), ('부는', 'Verb'), ('가을', 'Noun'), ('의', 'Josa'), ('중간', 'Noun'), ('계절', 'Noun'), ('이다', 'Josa')]\n"
     ]
    }
   ],
   "source": [
    "twitter = Okt()\n",
    "wordlist = twitter.nouns(\"멋진 봄은 엄청 무더운 여름과 한들한들 시원한 바람이 부는 가을의 중간 계절이다\")\n",
    "print(wordlist)\n",
    "wordlist2 = twitter.morphs(\"멋진 봄은 엄청 무더운 여름과 한들한들 시원한 바람이 부는 가을의 중간 계절이다\")\n",
    "print(wordlist2)\n",
    "wordlist3 = twitter.pos(\"멋진 봄은 엄청 무더운 여름과 한들한들 시원한 바람이 부는 가을의 중간 계절이다\")\n",
    "print(wordlist3)"
   ]
  },
  {
   "cell_type": "code",
   "execution_count": 5,
   "metadata": {},
   "outputs": [
    {
     "name": "stdout",
     "output_type": "stream",
     "text": [
      "당시 조산만호 이순신은 북방 여진족의 약탈 및 침략을 예상하고 수비를 강화하기 위하여 여러차례 북병사 이일에게 추가 병력을 요청하였으나, 모두 거절 당하였다. 이 패전으로 인해 책임을 지게 된 북병사 이일은 이순신에게 그 책임을 덮어 씌우고 이순신은 죄를 받아 수금되었고 백의종군(白衣從軍)하게 되었다.\n",
      "\n",
      "음력 8월 말 이순신의 함대는 전열을 정비하고 부산으로 출정하였다. 당포에서 경상우수사와 합류하였으며, 29일 적들의 동태에 대한 보고를 입수하여 그날부터 전투가 시작되었다. 음력 9월 1일 아침, 화준구미에서 왜 수군의 큰 배 5척, 다대포 앞바다에서 큰 배 8척, 서평포 앞바다에서 큰 배 9척, 절영도에서 큰 배 2척을 만나 쳐부수었다. 부산 앞바다에 이르러 적의 소굴에 있는 400여 척의 배 중 적선 100여 척을 쳐부수었으며, 2일까지 전투를 벌였다. 이때 배들을 모두 부수면 상륙한 일본군이 몰려 도망갈 방법이 없어지므로 후일 수륙에서 함께 공격하기 위해 함대를 물렸다.\n",
      "\n",
      "원균과의 대립은 각기 정파적인 입장과 맞물려서 갈등이 심화되었으며, 선조실록과 선조수정실록 조차도 이러한 두 인물에 대한 입장차이가 심하다. 이에 대한 논의는 당시 뿐만 아니라, 임진왜란이 끝나고 논공행상을 하는 자리에서도 진위 및 당부에 대한 논란이 있었다.\n",
      "미국과 영국 해군 교과서를 쓴 책인 '해전의 모든 것'(휴먼 앤 북스 펴냄) 에서 이순신을 전설적인 명장 제독으로 추앙하는 반면, 원균은 조선 수군을 산채로 매장한 최악의 제독으로 평가한다.\n",
      "\n",
      "노량해전을 끝으로 7년의 왜란은 끝났다. 선조실록의 사관은 당시 사람들이 모두 죽은 이순신이 산 왜놈들을 격파하였다고 말했다고 한다.\n",
      "\n",
      "이순신과 한 동네에서 살았던 벗이기도 한 류성룡은 《징비록》에서 어린 시절의 이순신에 대해, 다른 아이들과 모여 놀 때면 나무를 깎아 활과 화살을 만들어 동리에서 전쟁놀이를 하곤 했으며, 그의 성격을 거슬러 마음에 들지 않는 사람의 눈을 쏘려고 하였으므로 어른들도 그를 꺼려 감히 군문(軍門) 앞을 지나려고 하지 않았다고 적고 있다.\n",
      "\n",
      "이순신의 용모에 대해서는 이순신 생전에 그려진 초상화가 없고 그의 얼굴을 묘사한 기록만이 남아 있을 뿐이다. 100원 주화에 새겨진 이순신 제독의 복식이나 이순신 제독의 초상화 중 갑옷이나 전립이 아닌 관복 차림의 이순신 초상화는 영의정의 예우를 갖춰 그려졌고 실제로 이순신이 살아생전 그 복장을 입은 적은 없다.\n",
      "\n",
      "근현대에 이르러서도 \"충무공은 거의 완전무결한 인물이었다. 그러기에 성자라 하고 영웅이라 일컫는 것이다.\"(천관우) 등 이순신에 대한 평가는 높았다.\n",
      "\n",
      "이순신은 일기와 시조, 한시 등 여러 편의 작품들을 남겼다.\n",
      "\n",
      "['당시', '조산', '만호', '이순신', '북방', '여진족', '약탈', '및', '침략', '예상', '수비', '위', '차례', '북', '병사', '이일', '추가', '병력', '요청', '모두', '거절', '이', '패전', '책임', '지게', '북', '병사', '이일', '이순신', '그', '책임', '이순신', '죄', '수금', '백의종군', '음력', '말', '이순신', '함대', '전열', '정비', '부산', '출정', '당포', '경상우수사', '합류', '적', '동태', '대한', '보고', '입수', '그날', '전투', '시작', '음력', '아침', '화준', '구미', '왜', '수군', '배', '척', '다대', '포', '앞바다', '배', '척', '서평', '포', '앞바다', '배', '척', '절영도', '배', '척', '부산', '앞바다', '적의', '소굴', '여', '척', '배', '중', '적선', '여', '척', '전투', '때', '배', '모두', '부수', '상륙', '일본군', '방법', '후일', '수륙', '공격', '위해', '함대', '원균', '대립', '각기', '정', '파적', '입장', '갈등', '심화', '선조', '실록', '선조', '수정', '실록', '두', '인물', '대한', '입장', '차이', '이', '대한', '논의', '당시', '뿐', '임진왜란', '논공', '행상', '자리', '진위', '및', '당부', '대한', '논란', '미국', '영국', '해군', '교과서', '책', '해전', '모든', '것', '휴먼', '앤', '북스', '이순신', '전설', '명장', '제독', '추앙', '반면', '원균', '조선', '수군', '산채', '매장', '최악', '제독', '평가', '노량해전', '끝', '왜란', '선조', '실록', '사관', '당시', '사람', '모두', '이순신', '산', '왜놈', '격파', '말', '이순신', '동네', '벗', '류성룡', '징비록', '시절', '이순신', '대해', '다른', '아이', '놀', '때', '나무', '활', '화살', '동리', '전쟁', '그', '성격', '거슬러', '마음', '사람', '눈', '어른', '그', '감히', '군문', '앞', '이순신', '용모', '대해', '이순신', '생전', '초상화', '그', '얼굴', '묘사', '기록', '남아', '뿐', '주화', '이순신', '제독', '복식', '이순신', '제독', '초상화', '중', '갑옷', '전립', '관복', '차림', '이순신', '초상화', '영의정', '예우', '실제', '이순신', '살아생전', '그', '복장', '현대', '서도', '충무공', '거의', '완전무결', '인물', '성자', '영웅', '것', '천관우', '등', '이순신', '대한', '평가', '이순신', '일기', '시조', '한시', '등', '여러', '편의', '작품']\n",
      "단어 수: 253\n"
     ]
    }
   ],
   "source": [
    "import urllib.request\n",
    "from bs4 import BeautifulSoup\n",
    "from konlpy.tag import *\n",
    "from urllib import parse\n",
    "\n",
    "kkma = Kkma()\n",
    "twitter = Okt()\n",
    "hana = Hannanum()\n",
    "\n",
    "sdata = parse.quote(\"이순신\")\n",
    "url = \"https://ko.wikipedia.org/wiki/\" + sdata\n",
    "page = urllib.request.urlopen(url)\n",
    "soup = BeautifulSoup(page.read(), \"html.parser\")\n",
    "#print(soup)\n",
    "\n",
    "wordlist = []\n",
    "\n",
    "for item in soup.select(\"#mw-content-text > div > p\"):\n",
    "    if item.string != None:\n",
    "        print(item.string)\n",
    "        ss = item.string\n",
    "        wordlist +=twitter.nouns(ss)\n",
    "        \n",
    "print(wordlist)        \n",
    "print(\"단어 수: \"+str(len(wordlist)))"
   ]
  },
  {
   "cell_type": "code",
   "execution_count": 6,
   "metadata": {},
   "outputs": [
    {
     "name": "stdout",
     "output_type": "stream",
     "text": [
      "{'당시': 3, '조산': 1, '만호': 1, '이순신': 16, '북방': 1, '여진족': 1, '약탈': 1, '및': 2, '침략': 1, '예상': 1, '수비': 1, '위': 1, '차례': 1, '북': 2, '병사': 2, '이일': 2, '추가': 1, '병력': 1, '요청': 1, '모두': 3, '거절': 1, '이': 2, '패전': 1, '책임': 2, '지게': 1, '그': 5, '죄': 1, '수금': 1, '백의종군': 1, '음력': 2, '말': 2, '함대': 2, '전열': 1, '정비': 1, '부산': 2, '출정': 1, '당포': 1, '경상우수사': 1, '합류': 1, '적': 1, '동태': 1, '대한': 5, '보고': 1, '입수': 1, '그날': 1, '전투': 2, '시작': 1, '아침': 1, '화준': 1, '구미': 1, '왜': 1, '수군': 2, '배': 6, '척': 6, '다대': 1, '포': 2, '앞바다': 3, '서평': 1, '절영도': 1, '적의': 1, '소굴': 1, '여': 2, '중': 2, '적선': 1, '때': 2, '부수': 1, '상륙': 1, '일본군': 1, '방법': 1, '후일': 1, '수륙': 1, '공격': 1, '위해': 1, '원균': 2, '대립': 1, '각기': 1, '정': 1, '파적': 1, '입장': 2, '갈등': 1, '심화': 1, '선조': 3, '실록': 3, '수정': 1, '두': 1, '인물': 2, '차이': 1, '논의': 1, '뿐': 2, '임진왜란': 1, '논공': 1, '행상': 1, '자리': 1, '진위': 1, '당부': 1, '논란': 1, '미국': 1, '영국': 1, '해군': 1, '교과서': 1, '책': 1, '해전': 1, '모든': 1, '것': 2, '휴먼': 1, '앤': 1, '북스': 1, '전설': 1, '명장': 1, '제독': 4, '추앙': 1, '반면': 1, '조선': 1, '산채': 1, '매장': 1, '최악': 1, '평가': 2, '노량해전': 1, '끝': 1, '왜란': 1, '사관': 1, '사람': 2, '산': 1, '왜놈': 1, '격파': 1, '동네': 1, '벗': 1, '류성룡': 1, '징비록': 1, '시절': 1, '대해': 2, '다른': 1, '아이': 1, '놀': 1, '나무': 1, '활': 1, '화살': 1, '동리': 1, '전쟁': 1, '성격': 1, '거슬러': 1, '마음': 1, '눈': 1, '어른': 1, '감히': 1, '군문': 1, '앞': 1, '용모': 1, '생전': 1, '초상화': 3, '얼굴': 1, '묘사': 1, '기록': 1, '남아': 1, '주화': 1, '복식': 1, '갑옷': 1, '전립': 1, '관복': 1, '차림': 1, '영의정': 1, '예우': 1, '실제': 1, '살아생전': 1, '복장': 1, '현대': 1, '서도': 1, '충무공': 1, '거의': 1, '완전무결': 1, '성자': 1, '영웅': 1, '천관우': 1, '등': 2, '일기': 1, '시조': 1, '한시': 1, '여러': 1, '편의': 1, '작품': 1}\n"
     ]
    }
   ],
   "source": [
    "word_dict = {}\n",
    "for i in wordlist:\n",
    "    if i in word_dict:\n",
    "        word_dict[i] += 1\n",
    "    else: \n",
    "        word_dict[i] = 1\n",
    "        \n",
    "print(word_dict)"
   ]
  },
  {
   "cell_type": "code",
   "execution_count": 7,
   "metadata": {},
   "outputs": [
    {
     "name": "stdout",
     "output_type": "stream",
     "text": [
      "발견 된 명사의 갯수(중복제거): 180\n"
     ]
    }
   ],
   "source": [
    "setdata = set(wordlist)    \n",
    "print(\"발견 된 명사의 갯수(중복제거): \" + str(len(setdata)))"
   ]
  },
  {
   "cell_type": "code",
   "execution_count": 8,
   "metadata": {},
   "outputs": [
    {
     "name": "stdout",
     "output_type": "stream",
     "text": [
      "\n",
      " DataFrame으로 읽어들이기\n",
      "0       당시\n",
      "1       조산\n",
      "2       만호\n",
      "3      이순신\n",
      "4       북방\n",
      "      ... \n",
      "248     한시\n",
      "249      등\n",
      "250     여러\n",
      "251     편의\n",
      "252     작품\n",
      "Length: 253, dtype: object\n",
      "당시      3\n",
      "조산      1\n",
      "만호      1\n",
      "이순신    16\n",
      "북방      1\n",
      "       ..\n",
      "시조      1\n",
      "한시      1\n",
      "여러      1\n",
      "편의      1\n",
      "작품      1\n",
      "Length: 180, dtype: int64\n",
      "1    143\n",
      "2     25\n",
      "3      6\n",
      "6      2\n",
      "5      2\n",
      "dtype: int64\n",
      "\n",
      "<class 'pandas.core.frame.DataFrame'>\n"
     ]
    }
   ],
   "source": [
    "print(\"DataFrame으로 읽어들이기\")\n",
    "from pandas import Series, DataFrame\n",
    "li_data = Series(wordlist)\n",
    "print(li_data)\n",
    "seri_data = Series(word_dict)\n",
    "print(seri_data)\n",
    "print(seri_data.value_counts()[:5])\n",
    "\n",
    "print()\n",
    "df = DataFrame(wordlist)\n",
    "print(type(df))"
   ]
  },
  {
   "cell_type": "code",
   "execution_count": 10,
   "metadata": {},
   "outputs": [
    {
     "data": {
      "image/png": "[encoded data removed]",
      "text/plain": [
       "<Figure size 432x288 with 1 Axes>"
      ]
     },
     "metadata": {
      "needs_background": "light"
     },
     "output_type": "display_data"
    }
   ],
   "source": [
    "import matplotlib.pyplot as plt\n",
    "plt.rc(\"font\", family=\"malgun gothic\") #한글깨짐 방지\n",
    "plt.plot(seri_data.value_counts()[:5])\n",
    "plt.xlabel(\"횟수 종류\")\n",
    "plt.ylabel(\"종류별 발생 수\")\n",
    "plt.title(\"단어 건수\")\n",
    "plt.legend(\"횟수\")\n",
    "plt.show() #최종적으로 plot을 보이게 하는 명령"
   ]
  },
  {
   "cell_type": "code",
   "execution_count": 11,
   "metadata": {},
   "outputs": [
    {
     "name": "stdout",
     "output_type": "stream",
     "text": [
      "(S\n",
      "  (NP 멋진/Adjective 봄/Noun)\n",
      "  은/Josa\n",
      "  엄청/Adverb\n",
      "  (NP 무더운/Adjective 여름/Noun)\n",
      "  과/Josa\n",
      "  한들한들/Adverb\n",
      "  (NP 시원한/Adjective 바람/Noun)\n",
      "  이/Josa\n",
      "  부는/Verb\n",
      "  (NP 가을/Noun)\n",
      "  의/Josa\n",
      "  (NP 중간/Noun 계절/Noun)\n",
      "  이다/Josa)\n"
     ]
    }
   ],
   "source": [
    "import nltk\n",
    "parser_ko = nltk.RegexpParser(\"NP:{<Adjective>*<Noun>*}\")\n",
    "chunk_ko = parser_ko.parse(wordlist3)\n",
    "print(chunk_ko)"
   ]
  },
  {
   "cell_type": "code",
   "execution_count": 12,
   "metadata": {},
   "outputs": [
    {
     "name": "stdout",
     "output_type": "stream",
     "text": [
      "['\\ufeff', '이통', '사들이', 'IT', '업체', '들', '과', '손잡고', '번역', '서비스', '를', '잇', '달', '아', '제공', '하고', '있다', '.', '인공', '지능', '(', 'AI', ')', '반의', '번역', '서비스', '가', '등장', '하면서', '번역', '에', '대한', '수요', '가', '늘어나고', '있기', '때문', '이다', '.', '\\n', 'KT', '는', 'AI', '번역', '서비스', '‘', '파파', '고', '’', '를', '탑재', '한', '신규', '디바이스', '‘', '에그', '톡', '(', 'Egg', 'Talk', ')’', '을', '30일', '공식', '출시', '한다고', '29일', '밝혔다', '.', '\\n', 'KT', '‘', '에그', '톡', '’', '은', '한국어', '번역', '에', '특화된', 'AI', '번역기', '파파', '고를', '기본', '탑재', '했다', '.', '영어', ',', '일본어', ',', '중국어', '등', '총', '13', '개국', '언어', '에', '대한', '번역', '기능', '을', '제공', '한', '다', '.', '또한', ',', '간단한', '글로벌', '회화', '메뉴', '를', '지원', '해', '공항', ',', '호텔', ',', '관광지', '등', '에서', '손쉽게', '이용', '할', '수', '있다', '.', '\\n', '2.4', '인치', '터치', 'LCD', '를', '탑재', '해', '파파', '고', '번역', '내용', '확인', ',', '데이터', '사', '용량', '확인', ',', '설정', '변경', '등', '을', '손쉽게', '조작', '할', '수', '있다', '.', '에그', '톡', '은', 'LTE', '데이터', '신호', '를', '와이파이', '신호', '로', '전환', '해주는', '휴대', '용', '에그', '(', '라우터', ')', '기능', '도', '지원', '한', '다', '.', '스마트폰', ',', '태블릿', ',', '노트북', '등', '디바이스', '를', 'LTE', '에그', '에', '연결하면', '무선', '인터넷', '을', '이용', '할', '수', '있다', '.', 'LTE', '에그', '기능', '을', '사용', '하기', '위', '해서는', 'KT', '에그', '요금', '제인', '‘', 'LTE', 'Egg', '+’', '에', '가입', '해야', '한다', '.', '\\n']\n",
      "<Text: 번역>\n",
      "토큰 정보 확인 \n",
      "224\n",
      "128\n",
      "<FreqDist with 128 samples and 224 outcomes>\n"
     ]
    }
   ],
   "source": [
    "from konlpy.corpus import kobill\n",
    "\n",
    "files_ko = kobill.fileids()\n",
    "#print(files_ko)\n",
    "doc_ko = kobill.open('abc2.txt').read()\n",
    "#print(doc_ko)\n",
    "\n",
    "#의미 단어 추출 (Tokenize)\n",
    "from konlpy.tag import Okt\n",
    "t = Okt()\n",
    "tokens_ko = t.morphs(doc_ko) # 문서를 token으로 분리\n",
    "print(tokens_ko)\n",
    "\n",
    "import nltk\n",
    "ko = nltk.Text(tokens_ko, name='번역')\n",
    "print(ko)\n",
    "\n",
    "print('토큰 정보 확인 ')\n",
    "print(len(ko.tokens))\n",
    "print(len(set(ko.tokens)))\n",
    "fre_dist = ko.vocab()\n",
    "print(fre_dist) # <FreqDist with 294 samples and 618 outcomes>"
   ]
  },
  {
   "cell_type": "code",
   "execution_count": 13,
   "metadata": {},
   "outputs": [
    {
     "name": "stdout",
     "output_type": "stream",
     "text": [
      "['/beomi.github.io_old/python/2017/02/28/HowToMakeWebCrawler-Save-with-Django.html', '/beomi.github.io_old/python/2017/02/27/HowToMakeWebCrawler-With-Selenium.html', '/beomi.github.io_old/python/2017/02/08/Setup-SocialAuth-for-Django.html', '/beomi.github.io_old/python/2017/02/01/Django-CustomAuth.html', '/beomi.github.io_old/python/2017/01/20/HowToMakeWebCrawler-With-Login.html', '/beomi.github.io_old/python/2017/01/19/HowToMakeWebCrawler.html', '/beomi.github.io_old/2016/12/27/TelegramBot-with-Celery.html', '/beomi.github.io_old/2016/12/27/HowToSetup-Virtualenv-VirtualenvWrapper.html', '/beomi.github.io_old/djangotddstudy/2016/12/26/Django-TDD-Study-02-Using-UnitTest.html', '/beomi.github.io_old/djangotddstudy/2016/12/26/Django-TDD-Study-01-Setting-DevEnviron.html', '/beomi.github.io_old/djangotddstudy/2016/12/26/Django-TDD-Study-00-Starting-Study.html', '/beomi.github.io_old/2016/12/21/Fabric-Put-Command-No-Such-File-Exception.html', '/beomi.github.io_old/2016/12/21/CKEditor-Lisence-and-Pricing.html', '/beomi.github.io_old/translation/2016/12/20/ReactNative-Translation-Intro-Finish.html', '/beomi.github.io_old/translation/2016/11/15/ReactNative-Translation-01-getting-started.html', '/beomi.github.io_old/django-celery/programming/python/translation/2016/11/04/eb-b2-88-ec-97-ad-ec-9e-a5-ea-b3-a0django-ec-99-80-ed-95-a8-ea-bb-98-ed-95-98-eb-8a-94-celery-ec-b2-ab-ea-b1-b8-ec-9d-8c.html', '/beomi.github.io_old/tech/2016/09/14/chrome-native-adblockr-eb-8c-80-ec-b2-b4-ed-95-98-ea-b8-b0.html', '/beomi.github.io_old/dev%20env%20setup/mac%20/%20os%20x/tech/2016/08/09/customac-ec-84-a4-ec-b9-98-eb-b6-84-ed-88-ac-ea-b8-b0.html', '/beomi.github.io_old/dev%20env%20setup/tech/ubuntu%20/%20debian/2016/07/22/ubuntu14-04-ec-97-90-ohmyzsh-ec-84-a4-ec-b9-98.html', '/beomi.github.io_old/programming/python/tech/2016/07/22/ubuntu14-04-ec-97-90-ec-84-9c-pip-eb-a1-9c-mysqlclient-ec-84-a4-ec-b9-98-ec-8b-a4-ed-8c-a8-ec-8b-9c.html', '/beomi.github.io_old/mac%20/%20os%20x/programming/python/tech/2016/07/22/ubuntu14-04-ec-97-90-ec-84-9c-python3-ea-b8-b0-eb-b0-98-virtualenvwrapper-ec-84-a4-ec-b9-98.html', '/beomi.github.io_old/mac%20/%20os%20x/programming/python/tech/2016/07/21/mac-os-x-ec-97-90-ec-84-9c-pip-virtualenvwrapper-ec-84-a4-ec-b9-98-ec-8b-9c-uninstalling-six-ec-97-90-ec-84-9c-exception-eb-b0-9c-ec-83-9d-ec-8b-9c.html', '/beomi.github.io_old/programming/python/2016/07/17/fabric-for-python3-fabric3.html', '/beomi.github.io_old/programming/python/2016/06/04/windows-ec-97-90-ec-84-9c-pip-eb-a1-9c-mysqlclient-ec-84-a4-ec-b9-98-ec-8b-a4-ed-8c-a8-ec-8b-9cpython3-43-5.html', '/beomi.github.io_old/mac%20/%20os%20x/tech/2016/05/27/eb-a7-a5-ec-97-90-ec-84-9c-ec-9c-88-eb-8f-84rdp-eb-a1-9c-ec-a0-91-ec-86-8d-ec-8b-9c-ed-95-9c-ec-98-81-ec-a0-84-ed-99-98-ed-95-98-ea-b8-b0.html', '/beomi.github.io_old/programming/python/2016/05/27/pip-eb-a1-9c-mysqlclient-ec-84-a4-ec-b9-98-ec-a4-91-mac-os-x-ec-97-90-ec-84-9c-egg_info-oserror-eb-b0-9c-ec-83-9d-ec-8b-9c-eb-8c-80-ec-b2-98-eb-b0-a9-eb-b2-95.html']\n",
      "나만의 웹 크롤러 만들기(4): Django로 크롤링한 데이터 저장하기\n",
      "나만의 웹 크롤러 만들기(3): Selenium으로 무적 크롤러 만들기\n",
      "Django에 Social Login 붙이기: Django세팅부터 Facebook/Google 개발 설정까지\n",
      "Django에 Custom인증 붙이기\n",
      "나만의 웹 크롤러 만들기(2): Login with Session\n",
      "나만의 웹 크롤러 만들기 with Requests/BeautifulSoup\n",
      "Celery로 TelegramBot 알림 보내기\n",
      "Virtualenv/VirtualenvWrapper OS별 설치&이용법\n",
      "[DjangoTDDStudy] #02: UnitTest 이용해 기능 테스트 하기\n",
      "[DjangoTDDStudy] #01: 개발환경 세팅하기(Selenium / ChromeDriver)\n",
      "[DjangoTDDStudy] #00: 스터디를 시작하며\n",
      "Fabric Put 커맨드가 No Such File Exception을 반환할 때 해결법\n",
      "CKEditor의 라이센스와 오픈소스 라이센스\n",
      "ReactNative The Basis 번역을 끝냈습니다.\n",
      "[React Native 번역]#01: 시작하기\n",
      "[번역] 장고(Django)와 함께하는 Celery 첫걸음\n",
      "Chrome Native Adblockr 대체하기\n",
      "CustoMac 설치 분투기\n",
      "Ubuntu14.04에 OhMyZsh 설치\n",
      "Ubuntu14.04에서 pip로 mysqlclient 설치 실패시\n",
      "Ubuntu14.04에서 Python3기반 virtualenvwrapper 설치\n",
      "mac OS X에서 pip virtualenvwrapper 설치 시 uninstalling six 에서 Exception 발생 시\n",
      "Fabric for Python3 (Fabric3)\n",
      "Windows에서 pip로 mysqlclient 설치 실패시(python3.4/3.5)\n",
      "맥에서 윈도RDP로 접속시 한영전환하기.\n",
      "pip로 mysqlclient설치 중 mac os x에서 egg_info / OSError 발생시 대처방법\n",
      "소요시간: 14.381848812103271초\n"
     ]
    }
   ],
   "source": [
    "#멀티프로세싱 없이 웹 데이터 읽기\n",
    "import requests\n",
    "from bs4 import BeautifulSoup\n",
    "import time\n",
    "\n",
    "def get_alinks():\n",
    "    req_data = requests.get(\"https://beomi.github.io/beomi.github.io_old/\")\n",
    "    html = req_data.text\n",
    "    #print(html)\n",
    "    \n",
    "    soup = BeautifulSoup(html, \"html.parser\")\n",
    "    a_titles = soup.select(\"h3 > a\")\n",
    "    data = []\n",
    "    for t in a_titles:\n",
    "        data.append(t.get(\"href\"))\n",
    "    \n",
    "    return data    \n",
    "\n",
    "def get_cont(link):\n",
    "    a_link = \"https://beomi.github.io\" + link\n",
    "    req = requests.get(a_link)\n",
    "    html = req.text\n",
    "    soup = BeautifulSoup(html, \"lxml\")\n",
    "    print(soup.select(\"h1\")[0].text)\n",
    "    \n",
    "if __name__ == \"__main__\":\n",
    "    start_time = time.time()\n",
    "    print(get_alinks())\n",
    "    for link in get_alinks():\n",
    "        get_cont(link)\n",
    "        \n",
    "    print(\"소요시간: %s초\"%(time.time() - start_time))"
   ]
  },
  {
   "cell_type": "code",
   "execution_count": null,
   "metadata": {},
   "outputs": [],
   "source": [
    "from multiprocessing import Pool\n",
    "start_time = time.time()\n",
    "pool = Pool(processes=4) #process 4개 사용\n",
    "pool.map(get_cont, get_alinks())\n",
    "    \n",
    "print(\"소요시간: %s초\"%(time.time() - start_time))"
   ]
  },
  {
   "cell_type": "code",
   "execution_count": null,
   "metadata": {},
   "outputs": [],
   "source": []
  }
 ],
 "metadata": {
  "kernelspec": {
   "display_name": "Python 3",
   "language": "python",
   "name": "python3"
  },
  "language_info": {
   "codemirror_mode": {
    "name": "ipython",
    "version": 3
   },
   "file_extension": ".py",
   "mimetype": "text/x-python",
   "name": "python",
   "nbconvert_exporter": "python",
   "pygments_lexer": "ipython3",
   "version": "3.7.3"
  }
 },
 "nbformat": 4,
 "nbformat_minor": 2
}
