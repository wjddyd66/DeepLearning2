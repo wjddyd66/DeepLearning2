{
 "cells": [
  {
   "cell_type": "markdown",
   "metadata": {},
   "source": [
    "### KoNLPy\n",
    "\n",
    "**NLP (Natural Language Processing, 자연어처리)**는 **텍스트에서 의미있는 정보를 분석, 추출하고 이해하는 일련의 기술집합**입니다.  \n",
    "**KoNLPy는 여러분이 한국어 텍스트를 이용하여 기초적인 NLP 작업을 수행하는데 도움을 드릴 것**입니다.  "
   ]
  },
  {
   "cell_type": "code",
   "execution_count": 1,
   "metadata": {},
   "outputs": [],
   "source": [
    "from konlpy.tag import Kkma\n",
    "from konlpy.utils import pprint"
   ]
  },
  {
   "cell_type": "markdown",
   "metadata": {},
   "source": [
    "### 형태소 분석 및 품사 태깅\n",
    "\n",
    "**형태소 분석** 이란 형태소를 비롯하여, 어근, 접두사/접미사, 품사(POS, part-of-speech) 등 다양한 언어적 속성의 구조를 파악하는 것입니다.  \n",
    "**품사 태깅** 은 형태소의 뜻과 문맥을 고려하여 그것에 마크업을 하는 일입니다.  \n",
    "다음은 형태소 분석 중에서 Kkma를 사용했을 경우이다.  "
   ]
  },
  {
   "cell_type": "code",
   "execution_count": 2,
   "metadata": {},
   "outputs": [
    {
     "name": "stdout",
     "output_type": "stream",
     "text": [
      "['여러분, 안녕! 반갑습니다.']\n",
      "['여러분', '안녕']\n",
      "[('여러분', 'NP'), (',', 'SP'), ('안녕', 'NNG'), ('!', 'SF'), ('반갑', 'VV'), ('습니다', 'EFN'), ('.', 'SF')]\n"
     ]
    }
   ],
   "source": [
    "kkma = Kkma()\n",
    "pprint(kkma.sentences(\"여러분, 안녕! 반갑습니다.\")) \n",
    "print(kkma.nouns(\"여러분, 안녕! 반갑습니다.\"))\n",
    "print(kkma.pos(\"여러분, 안녕! 반갑습니다.\"))"
   ]
  },
  {
   "cell_type": "markdown",
   "metadata": {},
   "source": [
    "KoNLPy에는 Kkma외에 Okt, Komoran, Hannanum등이 존재 한다.  \n",
    "아래는 Okt를 사용했을 경우의 예시이다.  "
   ]
  },
  {
   "cell_type": "code",
   "execution_count": 3,
   "metadata": {
    "scrolled": true
   },
   "outputs": [
    {
     "name": "stdout",
     "output_type": "stream",
     "text": [
      "['여러분', '안녕']\n",
      "[('여러분', 'Noun'), (',', 'Punctuation'), ('안녕', 'Noun'), ('!', 'Punctuation'), ('반갑습니다', 'Adjective'), ('.', 'Punctuation')]\n"
     ]
    }
   ],
   "source": [
    "from konlpy.tag import Okt\n",
    "okt = Okt()\n",
    "print(okt.nouns(\"여러분, 안녕! 반갑습니다.\"))\n",
    "print(okt.pos(\"여러분, 안녕! 반갑습니다.\"))"
   ]
  },
  {
   "cell_type": "markdown",
   "metadata": {},
   "source": [
    "형태소 분석에서 형태소만을 추출하는 함수가 있다.  \n",
    "\n",
    "1. nouns(): 명사만을 추출하는 함수\n",
    "2. morphs(): 모든 품사를 추출하는 함수\n",
    "3. pos(): 단어 하나하나 품사를 명시해주는 함수"
   ]
  },
  {
   "cell_type": "code",
   "execution_count": 4,
   "metadata": {
    "scrolled": true
   },
   "outputs": [
    {
     "name": "stdout",
     "output_type": "stream",
     "text": [
      "['봄', '여름', '바람', '가을', '중간', '계절']\n",
      "['멋진', '봄', '은', '엄청', '무더운', '여름', '과', '한들한들', '시원한', '바람', '이', '부는', '가을', '의', '중간', '계절', '이다']\n",
      "[('멋진', 'Adjective'), ('봄', 'Noun'), ('은', 'Josa'), ('엄청', 'Adverb'), ('무더운', 'Adjective'), ('여름', 'Noun'), ('과', 'Josa'), ('한들한들', 'Adverb'), ('시원한', 'Adjective'), ('바람', 'Noun'), ('이', 'Josa'), ('부는', 'Verb'), ('가을', 'Noun'), ('의', 'Josa'), ('중간', 'Noun'), ('계절', 'Noun'), ('이다', 'Josa')]\n"
     ]
    }
   ],
   "source": [
    "twitter = Okt()\n",
    "wordlist = twitter.nouns(\"멋진 봄은 엄청 무더운 여름과 한들한들 시원한 바람이 부는 가을의 중간 계절이다\")\n",
    "print(wordlist)\n",
    "wordlist2 = twitter.morphs(\"멋진 봄은 엄청 무더운 여름과 한들한들 시원한 바람이 부는 가을의 중간 계절이다\")\n",
    "print(wordlist2)\n",
    "wordlist3 = twitter.pos(\"멋진 봄은 엄청 무더운 여름과 한들한들 시원한 바람이 부는 가을의 중간 계절이다\")\n",
    "print(wordlist3)"
   ]
  },
  {
   "cell_type": "markdown",
   "metadata": {},
   "source": [
    "다음 예제는 **웹스크래핑 후 형태소를 분석**하는 예제이다.  \n",
    "웹스크래핑을한 URL:<a href=\"https://ko.wikipedia.org/wiki/%EC%9D%B4%EC%88%9C%EC%8B%A0\">위키백과</a>  "
   ]
  },
  {
   "cell_type": "code",
   "execution_count": 5,
   "metadata": {},
   "outputs": [
    {
     "name": "stdout",
     "output_type": "stream",
     "text": [
      "당시 조산만호 이순신은 북방 여진족의 약탈 및 침략을 예상하고 수비를 강화하기 위하여 여러차례 북병사 이일에게 추가 병력을 요청하였으나, 모두 거절 당하였다. 이 패전으로 인해 책임을 지게 된 북병사 이일은 이순신에게 그 책임을 덮어 씌우고 이순신은 죄를 받아 수금되었고 백의종군(白衣從軍)하게 되었다.\n",
      "\n",
      "음력 8월 말 이순신의 함대는 전열을 정비하고 부산으로 출정하였다. 당포에서 경상우수사와 합류하였으며, 29일 적들의 동태에 대한 보고를 입수하여 그날부터 전투가 시작되었다. 음력 9월 1일 아침, 화준구미에서 왜 수군의 큰 배 5척, 다대포 앞바다에서 큰 배 8척, 서평포 앞바다에서 큰 배 9척, 절영도에서 큰 배 2척을 만나 쳐부수었다. 부산 앞바다에 이르러 적의 소굴에 있는 400여 척의 배 중 적선 100여 척을 쳐부수었으며, 2일까지 전투를 벌였다. 이때 배들을 모두 부수면 상륙한 일본군이 몰려 도망갈 방법이 없어지므로 후일 수륙에서 함께 공격하기 위해 함대를 물렸다.\n",
      "\n",
      "원균과의 대립은 각기 정파적인 입장과 맞물려서 갈등이 심화되었으며, 선조실록과 선조수정실록 조차도 이러한 두 인물에 대한 입장차이가 심하다. 이에 대한 논의는 당시 뿐만 아니라, 임진왜란이 끝나고 논공행상을 하는 자리에서도 진위 및 당부에 대한 논란이 있었다.\n",
      "미국과 영국 해군 교과서를 쓴 책인 '해전의 모든 것'(휴먼 앤 북스 펴냄) 에서 이순신을 전설적인 명장 제독으로 추앙하는 반면, 원균은 조선 수군을 산채로 매장한 최악의 제독으로 평가한다.\n",
      "\n",
      "노량해전을 끝으로 7년의 왜란은 끝났다. 선조실록의 사관은 당시 사람들이 모두 죽은 이순신이 산 왜놈들을 격파하였다고 말했다고 한다.\n",
      "\n",
      "이순신과 한 동네에서 살았던 벗이기도 한 류성룡은 《징비록》에서 어린 시절의 이순신에 대해, 다른 아이들과 모여 놀 때면 나무를 깎아 활과 화살을 만들어 동리에서 전쟁놀이를 하곤 했으며, 그의 성격을 거슬러 마음에 들지 않는 사람의 눈을 쏘려고 하였으므로 어른들도 그를 꺼려 감히 군문(軍門) 앞을 지나려고 하지 않았다고 적고 있다.\n",
      "\n",
      "이순신의 용모에 대해서는 이순신 생전에 그려진 초상화가 없고 그의 얼굴을 묘사한 기록만이 남아 있을 뿐이다. 100원 주화에 새겨진 이순신 제독의 복식이나 이순신 제독의 초상화 중 갑옷이나 전립이 아닌 관복 차림의 이순신 초상화는 영의정의 예우를 갖춰 그려졌고 실제로 이순신이 살아생전 그 복장을 입은 적은 없다.\n",
      "\n",
      "근현대에 이르러서도 \"충무공은 거의 완전무결한 인물이었다. 그러기에 성자라 하고 영웅이라 일컫는 것이다.\"(천관우) 등 이순신에 대한 평가는 높았다.\n",
      "\n",
      "이순신은 일기와 시조, 한시 등 여러 편의 작품들을 남겼다.\n",
      "\n",
      "['당시', '조산', '만호', '이순신', '북방', '여진족', '약탈', '및', '침략', '예상', '수비', '위', '차례', '북', '병사', '이일', '추가', '병력', '요청', '모두', '거절', '이', '패전', '책임', '지게', '북', '병사', '이일', '이순신', '그', '책임', '이순신', '죄', '수금', '백의종군', '음력', '말', '이순신', '함대', '전열', '정비', '부산', '출정', '당포', '경상우수사', '합류', '적', '동태', '대한', '보고', '입수', '그날', '전투', '시작', '음력', '아침', '화준', '구미', '왜', '수군', '배', '척', '다대', '포', '앞바다', '배', '척', '서평', '포', '앞바다', '배', '척', '절영도', '배', '척', '부산', '앞바다', '적의', '소굴', '여', '척', '배', '중', '적선', '여', '척', '전투', '때', '배', '모두', '부수', '상륙', '일본군', '방법', '후일', '수륙', '공격', '위해', '함대', '원균', '대립', '각기', '정', '파적', '입장', '갈등', '심화', '선조', '실록', '선조', '수정', '실록', '두', '인물', '대한', '입장', '차이', '이', '대한', '논의', '당시', '뿐', '임진왜란', '논공', '행상', '자리', '진위', '및', '당부', '대한', '논란', '미국', '영국', '해군', '교과서', '책', '해전', '모든', '것', '휴먼', '앤', '북스', '이순신', '전설', '명장', '제독', '추앙', '반면', '원균', '조선', '수군', '산채', '매장', '최악', '제독', '평가', '노량해전', '끝', '왜란', '선조', '실록', '사관', '당시', '사람', '모두', '이순신', '산', '왜놈', '격파', '말', '이순신', '동네', '벗', '류성룡', '징비록', '시절', '이순신', '대해', '다른', '아이', '놀', '때', '나무', '활', '화살', '동리', '전쟁', '그', '성격', '거슬러', '마음', '사람', '눈', '어른', '그', '감히', '군문', '앞', '이순신', '용모', '대해', '이순신', '생전', '초상화', '그', '얼굴', '묘사', '기록', '남아', '뿐', '주화', '이순신', '제독', '복식', '이순신', '제독', '초상화', '중', '갑옷', '전립', '관복', '차림', '이순신', '초상화', '영의정', '예우', '실제', '이순신', '살아생전', '그', '복장', '현대', '서도', '충무공', '거의', '완전무결', '인물', '성자', '영웅', '것', '천관우', '등', '이순신', '대한', '평가', '이순신', '일기', '시조', '한시', '등', '여러', '편의', '작품']\n",
      "단어 수: 253\n"
     ]
    }
   ],
   "source": [
    "import urllib.request\n",
    "from bs4 import BeautifulSoup\n",
    "from konlpy.tag import *\n",
    "from urllib import parse\n",
    "\n",
    "kkma = Kkma()\n",
    "twitter = Okt()\n",
    "hana = Hannanum()\n",
    "\n",
    "sdata = parse.quote(\"이순신\")\n",
    "url = \"https://ko.wikipedia.org/wiki/\" + sdata\n",
    "page = urllib.request.urlopen(url)\n",
    "soup = BeautifulSoup(page.read(), \"html.parser\")\n",
    "#print(soup)\n",
    "\n",
    "wordlist = []\n",
    "\n",
    "for item in soup.select(\"#mw-content-text > div > p\"):\n",
    "    if item.string != None:\n",
    "        print(item.string)\n",
    "        ss = item.string\n",
    "        wordlist +=twitter.nouns(ss)\n",
    "        \n",
    "print(wordlist)        \n",
    "print(\"단어 수: \"+str(len(wordlist)))"
   ]
  },
  {
   "cell_type": "markdown",
   "metadata": {},
   "source": [
    "위의 결과의 단어 발생 횟수를 확인하는 예제이다.  "
   ]
  },
  {
   "cell_type": "code",
   "execution_count": 6,
   "metadata": {},
   "outputs": [
    {
     "name": "stdout",
     "output_type": "stream",
     "text": [
      "{'당시': 3, '조산': 1, '만호': 1, '이순신': 16, '북방': 1, '여진족': 1, '약탈': 1, '및': 2, '침략': 1, '예상': 1, '수비': 1, '위': 1, '차례': 1, '북': 2, '병사': 2, '이일': 2, '추가': 1, '병력': 1, '요청': 1, '모두': 3, '거절': 1, '이': 2, '패전': 1, '책임': 2, '지게': 1, '그': 5, '죄': 1, '수금': 1, '백의종군': 1, '음력': 2, '말': 2, '함대': 2, '전열': 1, '정비': 1, '부산': 2, '출정': 1, '당포': 1, '경상우수사': 1, '합류': 1, '적': 1, '동태': 1, '대한': 5, '보고': 1, '입수': 1, '그날': 1, '전투': 2, '시작': 1, '아침': 1, '화준': 1, '구미': 1, '왜': 1, '수군': 2, '배': 6, '척': 6, '다대': 1, '포': 2, '앞바다': 3, '서평': 1, '절영도': 1, '적의': 1, '소굴': 1, '여': 2, '중': 2, '적선': 1, '때': 2, '부수': 1, '상륙': 1, '일본군': 1, '방법': 1, '후일': 1, '수륙': 1, '공격': 1, '위해': 1, '원균': 2, '대립': 1, '각기': 1, '정': 1, '파적': 1, '입장': 2, '갈등': 1, '심화': 1, '선조': 3, '실록': 3, '수정': 1, '두': 1, '인물': 2, '차이': 1, '논의': 1, '뿐': 2, '임진왜란': 1, '논공': 1, '행상': 1, '자리': 1, '진위': 1, '당부': 1, '논란': 1, '미국': 1, '영국': 1, '해군': 1, '교과서': 1, '책': 1, '해전': 1, '모든': 1, '것': 2, '휴먼': 1, '앤': 1, '북스': 1, '전설': 1, '명장': 1, '제독': 4, '추앙': 1, '반면': 1, '조선': 1, '산채': 1, '매장': 1, '최악': 1, '평가': 2, '노량해전': 1, '끝': 1, '왜란': 1, '사관': 1, '사람': 2, '산': 1, '왜놈': 1, '격파': 1, '동네': 1, '벗': 1, '류성룡': 1, '징비록': 1, '시절': 1, '대해': 2, '다른': 1, '아이': 1, '놀': 1, '나무': 1, '활': 1, '화살': 1, '동리': 1, '전쟁': 1, '성격': 1, '거슬러': 1, '마음': 1, '눈': 1, '어른': 1, '감히': 1, '군문': 1, '앞': 1, '용모': 1, '생전': 1, '초상화': 3, '얼굴': 1, '묘사': 1, '기록': 1, '남아': 1, '주화': 1, '복식': 1, '갑옷': 1, '전립': 1, '관복': 1, '차림': 1, '영의정': 1, '예우': 1, '실제': 1, '살아생전': 1, '복장': 1, '현대': 1, '서도': 1, '충무공': 1, '거의': 1, '완전무결': 1, '성자': 1, '영웅': 1, '천관우': 1, '등': 2, '일기': 1, '시조': 1, '한시': 1, '여러': 1, '편의': 1, '작품': 1}\n"
     ]
    }
   ],
   "source": [
    "word_dict = {}\n",
    "for i in wordlist:\n",
    "    if i in word_dict:\n",
    "        word_dict[i] += 1\n",
    "    else: \n",
    "        word_dict[i] = 1\n",
    "        \n",
    "print(word_dict)"
   ]
  },
  {
   "cell_type": "markdown",
   "metadata": {},
   "source": [
    "중복 단어를 제거하는 코드이다.  "
   ]
  },
  {
   "cell_type": "code",
   "execution_count": 7,
   "metadata": {
    "scrolled": true
   },
   "outputs": [
    {
     "name": "stdout",
     "output_type": "stream",
     "text": [
      "발견 된 명사의 갯수(중복제거): 180\n"
     ]
    }
   ],
   "source": [
    "setdata = set(wordlist)    \n",
    "print(\"발견 된 명사의 갯수(중복제거): \" + str(len(setdata)))"
   ]
  },
  {
   "cell_type": "markdown",
   "metadata": {},
   "source": [
    "위의 결과를 **DataFrame**으로서 바꾸는 예제이다.  "
   ]
  },
  {
   "cell_type": "code",
   "execution_count": 8,
   "metadata": {},
   "outputs": [
    {
     "name": "stdout",
     "output_type": "stream",
     "text": [
      "\n",
      " DataFrame으로 읽어들이기\n",
      "0       당시\n",
      "1       조산\n",
      "2       만호\n",
      "3      이순신\n",
      "4       북방\n",
      "      ... \n",
      "248     한시\n",
      "249      등\n",
      "250     여러\n",
      "251     편의\n",
      "252     작품\n",
      "Length: 253, dtype: object\n",
      "당시      3\n",
      "조산      1\n",
      "만호      1\n",
      "이순신    16\n",
      "북방      1\n",
      "       ..\n",
      "시조      1\n",
      "한시      1\n",
      "여러      1\n",
      "편의      1\n",
      "작품      1\n",
      "Length: 180, dtype: int64\n",
      "1    143\n",
      "2     25\n",
      "3      6\n",
      "6      2\n",
      "5      2\n",
      "dtype: int64\n",
      "\n",
      "<class 'pandas.core.frame.DataFrame'>\n"
     ]
    }
   ],
   "source": [
    "print(\"DataFrame으로 읽어들이기\")\n",
    "from pandas import Series, DataFrame\n",
    "li_data = Series(wordlist)\n",
    "print(li_data)\n",
    "seri_data = Series(word_dict)\n",
    "print(seri_data)\n",
    "print(seri_data.value_counts()[:5])\n",
    "\n",
    "print()\n",
    "df = DataFrame(wordlist)\n",
    "print(type(df))"
   ]
  },
  {
   "cell_type": "markdown",
   "metadata": {},
   "source": [
    "위의 결과를 Plot을 활용하여 시각화하여 보여주는 예제이다.  "
   ]
  },
  {
   "cell_type": "code",
   "execution_count": 10,
   "metadata": {},
   "outputs": [
    {
     "data": {
      "image/png": "[encoded data removed]",
      "text/plain": [
       "<Figure size 432x288 with 1 Axes>"
      ]
     },
     "metadata": {
      "needs_background": "light"
     },
     "output_type": "display_data"
    }
   ],
   "source": [
    "import matplotlib.pyplot as plt\n",
    "plt.rc(\"font\", family=\"malgun gothic\") #한글깨짐 방지\n",
    "plt.plot(seri_data.value_counts()[:5])\n",
    "plt.xlabel(\"횟수 종류\")\n",
    "plt.ylabel(\"종류별 발생 수\")\n",
    "plt.title(\"단어 건수\")\n",
    "plt.legend(\"횟수\")\n",
    "plt.show() #최종적으로 plot을 보이게 하는 명령"
   ]
  }
 ],
 "metadata": {
  "kernelspec": {
   "display_name": "Python 3",
   "language": "python",
   "name": "python3"
  },
  "language_info": {
   "codemirror_mode": {
    "name": "ipython",
    "version": 3
   },
   "file_extension": ".py",
   "mimetype": "text/x-python",
   "name": "python",
   "nbconvert_exporter": "python",
   "pygments_lexer": "ipython3",
   "version": "3.6.8"
  }
 },
 "nbformat": 4,
 "nbformat_minor": 2
}
